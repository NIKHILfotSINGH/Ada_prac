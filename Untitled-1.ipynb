{
 "cells": [
  {
   "cell_type": "markdown",
   "id": "13f29bd8",
   "metadata": {},
   "source": [
    "# Import Required Libraries\n",
    "Import pandas for data handling and matplotlib for plotting."
   ]
  },
  {
   "cell_type": "code",
   "execution_count": null,
   "id": "0cc8e7ff",
   "metadata": {},
   "outputs": [],
   "source": [
    "import pandas as pd\n",
    "import matplotlib.pyplot as plt"
   ]
  },
  {
   "cell_type": "markdown",
   "id": "bc0ba494",
   "metadata": {},
   "source": [
    "# Load Data from File\n",
    "Read the 'binary_search_results.txt' file using pandas.read_csv, specifying the correct delimiter."
   ]
  },
  {
   "cell_type": "code",
   "execution_count": null,
   "id": "2bd9e8bc",
   "metadata": {},
   "outputs": [],
   "source": [
    "# Load the data from the results file\n",
    "df = pd.read_csv('binary_search_results.txt', delimiter=',')\n",
    "df.head()"
   ]
  },
  {
   "cell_type": "markdown",
   "id": "430ec4b3",
   "metadata": {},
   "source": [
    "# Visualize Data with a Line Plot\n",
    "Plot 'size' on the x-axis and 'time' on the y-axis using matplotlib's plot function."
   ]
  },
  {
   "cell_type": "code",
   "execution_count": null,
   "id": "bbced1da",
   "metadata": {},
   "outputs": [],
   "source": [
    "plt.plot(df['size'], df['time'], marker='o')"
   ]
  },
  {
   "cell_type": "markdown",
   "id": "087d2520",
   "metadata": {},
   "source": [
    "# Customize Plot Appearance\n",
    "Add axis labels, a title, and grid lines to improve readability."
   ]
  },
  {
   "cell_type": "code",
   "execution_count": null,
   "id": "2b0b7f03",
   "metadata": {},
   "outputs": [],
   "source": [
    "plt.xlabel('Input Size')\n",
    "plt.ylabel('Time (seconds)')\n",
    "plt.title('Binary Search Timing Results')\n",
    "plt.grid(True)\n",
    "plt.show()"
   ]
  }
 ],
 "metadata": {
  "language_info": {
   "name": "python"
  }
 },
 "nbformat": 4,
 "nbformat_minor": 5
}
